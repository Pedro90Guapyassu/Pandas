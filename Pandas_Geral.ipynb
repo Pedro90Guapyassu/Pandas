{
 "cells": [
  {
   "cell_type": "markdown",
   "metadata": {
    "id": "4eHAK1TNLkgd"
   },
   "source": [
    "# **Importando um dataset com Pandas**\n",
    "\n"
   ]
  },
  {
   "cell_type": "code",
   "execution_count": 1,
   "metadata": {
    "executionInfo": {
     "elapsed": 619,
     "status": "ok",
     "timestamp": 1621468727140,
     "user": {
      "displayName": "Pedro Henrique Menezes",
      "photoUrl": "",
      "userId": "12021089369134471983"
     },
     "user_tz": 180
    },
    "id": "cjBr7-BwI97d"
   },
   "outputs": [],
   "source": [
    "import pandas as pd"
   ]
  },
  {
   "cell_type": "code",
   "execution_count": null,
   "metadata": {
    "id": "wTUAocD9LskT"
   },
   "outputs": [],
   "source": [
    "file_name = \"/content/drive/MyDrive/Colab Notebooks/Guia de estudos /Manipulação e Tratamento de arquivos/binary.csv\"\n"
   ]
  },
  {
   "cell_type": "code",
   "execution_count": 2,
   "metadata": {
    "executionInfo": {
     "elapsed": 9447,
     "status": "ok",
     "timestamp": 1621468794829,
     "user": {
      "displayName": "Pedro Henrique Menezes",
      "photoUrl": "",
      "userId": "12021089369134471983"
     },
     "user_tz": 180
    },
    "id": "OzKogd8yLwME"
   },
   "outputs": [],
   "source": [
    "df = pd.read_excel(\"/content/drive/MyDrive/Colab Notebooks/Vendas.xlsx\")"
   ]
  },
  {
   "cell_type": "code",
   "execution_count": 3,
   "metadata": {
    "colab": {
     "base_uri": "https://localhost:8080/",
     "height": 204
    },
    "executionInfo": {
     "elapsed": 768,
     "status": "ok",
     "timestamp": 1621468806773,
     "user": {
      "displayName": "Pedro Henrique Menezes",
      "photoUrl": "",
      "userId": "12021089369134471983"
     },
     "user_tz": 180
    },
    "id": "K7KyQPSeL03q",
    "outputId": "c6b4b484-6615-43e3-b2dd-78b1a59b7407"
   },
   "outputs": [
    {
     "data": {
      "text/html": [
       "<div>\n",
       "<style scoped>\n",
       "    .dataframe tbody tr th:only-of-type {\n",
       "        vertical-align: middle;\n",
       "    }\n",
       "\n",
       "    .dataframe tbody tr th {\n",
       "        vertical-align: top;\n",
       "    }\n",
       "\n",
       "    .dataframe thead th {\n",
       "        text-align: right;\n",
       "    }\n",
       "</style>\n",
       "<table border=\"1\" class=\"dataframe\">\n",
       "  <thead>\n",
       "    <tr style=\"text-align: right;\">\n",
       "      <th></th>\n",
       "      <th>Código Venda</th>\n",
       "      <th>Data</th>\n",
       "      <th>ID Loja</th>\n",
       "      <th>Produto</th>\n",
       "      <th>Quantidade</th>\n",
       "      <th>Valor Unitário</th>\n",
       "      <th>Valor Final</th>\n",
       "    </tr>\n",
       "  </thead>\n",
       "  <tbody>\n",
       "    <tr>\n",
       "      <th>0</th>\n",
       "      <td>1</td>\n",
       "      <td>2019-01-01</td>\n",
       "      <td>Iguatemi Esplanada</td>\n",
       "      <td>Sapato Estampa</td>\n",
       "      <td>1</td>\n",
       "      <td>358</td>\n",
       "      <td>358</td>\n",
       "    </tr>\n",
       "    <tr>\n",
       "      <th>1</th>\n",
       "      <td>1</td>\n",
       "      <td>2019-01-01</td>\n",
       "      <td>Iguatemi Esplanada</td>\n",
       "      <td>Camiseta</td>\n",
       "      <td>2</td>\n",
       "      <td>180</td>\n",
       "      <td>360</td>\n",
       "    </tr>\n",
       "    <tr>\n",
       "      <th>2</th>\n",
       "      <td>1</td>\n",
       "      <td>2019-01-01</td>\n",
       "      <td>Iguatemi Esplanada</td>\n",
       "      <td>Sapato Xadrez</td>\n",
       "      <td>1</td>\n",
       "      <td>368</td>\n",
       "      <td>368</td>\n",
       "    </tr>\n",
       "    <tr>\n",
       "      <th>3</th>\n",
       "      <td>2</td>\n",
       "      <td>2019-01-02</td>\n",
       "      <td>Norte Shopping</td>\n",
       "      <td>Relógio</td>\n",
       "      <td>3</td>\n",
       "      <td>200</td>\n",
       "      <td>600</td>\n",
       "    </tr>\n",
       "    <tr>\n",
       "      <th>4</th>\n",
       "      <td>2</td>\n",
       "      <td>2019-01-02</td>\n",
       "      <td>Norte Shopping</td>\n",
       "      <td>Chinelo Liso</td>\n",
       "      <td>1</td>\n",
       "      <td>71</td>\n",
       "      <td>71</td>\n",
       "    </tr>\n",
       "  </tbody>\n",
       "</table>\n",
       "</div>"
      ],
      "text/plain": [
       "   Código Venda       Data  ... Valor Unitário Valor Final\n",
       "0             1 2019-01-01  ...            358         358\n",
       "1             1 2019-01-01  ...            180         360\n",
       "2             1 2019-01-01  ...            368         368\n",
       "3             2 2019-01-02  ...            200         600\n",
       "4             2 2019-01-02  ...             71          71\n",
       "\n",
       "[5 rows x 7 columns]"
      ]
     },
     "execution_count": 3,
     "metadata": {
      "tags": []
     },
     "output_type": "execute_result"
    }
   ],
   "source": [
    "df.head()"
   ]
  },
  {
   "cell_type": "code",
   "execution_count": 4,
   "metadata": {
    "colab": {
     "base_uri": "https://localhost:8080/"
    },
    "executionInfo": {
     "elapsed": 561,
     "status": "ok",
     "timestamp": 1621468829294,
     "user": {
      "displayName": "Pedro Henrique Menezes",
      "photoUrl": "",
      "userId": "12021089369134471983"
     },
     "user_tz": 180
    },
    "id": "dsToo-t2EpTL",
    "outputId": "3c5043a5-ee61-41de-bff5-523c867ae5da"
   },
   "outputs": [
    {
     "data": {
      "text/plain": [
       "Código Venda               int64\n",
       "Data              datetime64[ns]\n",
       "ID Loja                   object\n",
       "Produto                   object\n",
       "Quantidade                 int64\n",
       "Valor Unitário             int64\n",
       "Valor Final                int64\n",
       "dtype: object"
      ]
     },
     "execution_count": 4,
     "metadata": {
      "tags": []
     },
     "output_type": "execute_result"
    }
   ],
   "source": [
    "df.dtypes"
   ]
  },
  {
   "cell_type": "code",
   "execution_count": null,
   "metadata": {
    "id": "66mP8f0nFD3S"
   },
   "outputs": [],
   "source": []
  },
  {
   "cell_type": "code",
   "execution_count": null,
   "metadata": {
    "colab": {
     "base_uri": "https://localhost:8080/"
    },
    "executionInfo": {
     "elapsed": 9358,
     "status": "ok",
     "timestamp": 1616175321955,
     "user": {
      "displayName": "Pedro Henrique Menezes",
      "photoUrl": "",
      "userId": "12021089369134471983"
     },
     "user_tz": 180
    },
    "id": "K1FIaHipjWmD",
    "outputId": "372c2ba1-e7a5-48df-ff98-d20887bd84a1"
   },
   "outputs": [
    {
     "name": "stdout",
     "output_type": "stream",
     "text": [
      "Drive already mounted at /content/drive; to attempt to forcibly remount, call drive.mount(\"/content/drive\", force_remount=True).\n"
     ]
    }
   ],
   "source": [
    "from google.colab import drive\n",
    "drive.mount('/content/drive')"
   ]
  },
  {
   "cell_type": "code",
   "execution_count": null,
   "metadata": {
    "id": "1cRuWEbIL5tN"
   },
   "outputs": [],
   "source": [
    "file1 = \"/content/drive/MyDrive/Colab Notebooks/salarios.csv\"\n",
    "df2 = pd.read_csv(file1)"
   ]
  },
  {
   "cell_type": "code",
   "execution_count": null,
   "metadata": {
    "colab": {
     "base_uri": "https://localhost:8080/",
     "height": 204
    },
    "executionInfo": {
     "elapsed": 719,
     "status": "ok",
     "timestamp": 1616175958229,
     "user": {
      "displayName": "Pedro Henrique Menezes",
      "photoUrl": "",
      "userId": "12021089369134471983"
     },
     "user_tz": 180
    },
    "id": "C8zPX0UxL9ID",
    "outputId": "7333fc44-3710-49b5-e0a8-0e3eb1e8ffcb"
   },
   "outputs": [
    {
     "data": {
      "text/html": [
       "<div>\n",
       "<style scoped>\n",
       "    .dataframe tbody tr th:only-of-type {\n",
       "        vertical-align: middle;\n",
       "    }\n",
       "\n",
       "    .dataframe tbody tr th {\n",
       "        vertical-align: top;\n",
       "    }\n",
       "\n",
       "    .dataframe thead th {\n",
       "        text-align: right;\n",
       "    }\n",
       "</style>\n",
       "<table border=\"1\" class=\"dataframe\">\n",
       "  <thead>\n",
       "    <tr style=\"text-align: right;\">\n",
       "      <th></th>\n",
       "      <th>AARON,  ELVIA J</th>\n",
       "      <th>WATER RATE TAKER</th>\n",
       "      <th>WATER MGMNT</th>\n",
       "      <th>$88967.00</th>\n",
       "    </tr>\n",
       "  </thead>\n",
       "  <tbody>\n",
       "    <tr>\n",
       "      <th>0</th>\n",
       "      <td>AARON,  JEFFERY M</td>\n",
       "      <td>POLICE OFFICER</td>\n",
       "      <td>POLICE</td>\n",
       "      <td>$80778.00</td>\n",
       "    </tr>\n",
       "    <tr>\n",
       "      <th>1</th>\n",
       "      <td>AARON,  KARINA</td>\n",
       "      <td>POLICE OFFICER</td>\n",
       "      <td>POLICE</td>\n",
       "      <td>$80778.00</td>\n",
       "    </tr>\n",
       "    <tr>\n",
       "      <th>2</th>\n",
       "      <td>AARON,  KIMBERLEI R</td>\n",
       "      <td>CHIEF CONTRACT EXPEDITER</td>\n",
       "      <td>GENERAL SERVICES</td>\n",
       "      <td>$84780.00</td>\n",
       "    </tr>\n",
       "    <tr>\n",
       "      <th>3</th>\n",
       "      <td>ABAD JR,  VICENTE M</td>\n",
       "      <td>CIVIL ENGINEER IV</td>\n",
       "      <td>WATER MGMNT</td>\n",
       "      <td>$104736.00</td>\n",
       "    </tr>\n",
       "    <tr>\n",
       "      <th>4</th>\n",
       "      <td>ABARCA,  ANABEL</td>\n",
       "      <td>ASST TO THE ALDERMAN</td>\n",
       "      <td>CITY COUNCIL</td>\n",
       "      <td>$70764.00</td>\n",
       "    </tr>\n",
       "  </tbody>\n",
       "</table>\n",
       "</div>"
      ],
      "text/plain": [
       "       AARON,  ELVIA J          WATER RATE TAKER       WATER MGMNT   $88967.00\n",
       "0    AARON,  JEFFERY M            POLICE OFFICER            POLICE   $80778.00\n",
       "1       AARON,  KARINA            POLICE OFFICER            POLICE   $80778.00\n",
       "2  AARON,  KIMBERLEI R  CHIEF CONTRACT EXPEDITER  GENERAL SERVICES   $84780.00\n",
       "3  ABAD JR,  VICENTE M         CIVIL ENGINEER IV       WATER MGMNT  $104736.00\n",
       "4      ABARCA,  ANABEL      ASST TO THE ALDERMAN      CITY COUNCIL   $70764.00"
      ]
     },
     "execution_count": 12,
     "metadata": {
      "tags": []
     },
     "output_type": "execute_result"
    }
   ],
   "source": [
    "df2.head()"
   ]
  },
  {
   "cell_type": "code",
   "execution_count": null,
   "metadata": {
    "id": "73UkD_yBkVSh"
   },
   "outputs": [],
   "source": [
    "#utilizando alguns parametros, usecols =[colunas especificas], nrows =[numero de linhas] header[para estabelecer o cabeçalho]\n",
    "filearq = \"/content/drive/MyDrive/Colab Notebooks/salarios.csv\"\n",
    "dx = pd.read_csv(filearq, usecols= [\"Name\",\"Employee Annual Salary\"], nrows=3)"
   ]
  },
  {
   "cell_type": "code",
   "execution_count": null,
   "metadata": {
    "id": "jpI2H0gQ4t-g"
   },
   "outputs": [],
   "source": [
    "dx = pd.read_csv(filearq, usecols= [0,1,2], nrows = 10)"
   ]
  },
  {
   "cell_type": "code",
   "execution_count": null,
   "metadata": {
    "colab": {
     "base_uri": "https://localhost:8080/"
    },
    "executionInfo": {
     "elapsed": 490,
     "status": "ok",
     "timestamp": 1619989411758,
     "user": {
      "displayName": "Pedro Henrique Menezes",
      "photoUrl": "",
      "userId": "12021089369134471983"
     },
     "user_tz": 180
    },
    "id": "s46qweaBk0f1",
    "outputId": "31675a39-db9c-4162-8a50-ae45a78e210d"
   },
   "outputs": [
    {
     "name": "stdout",
     "output_type": "stream",
     "text": [
      "                    Name            Position Title        Department\n",
      "0        AARON,  ELVIA J          WATER RATE TAKER       WATER MGMNT\n",
      "1      AARON,  JEFFERY M            POLICE OFFICER            POLICE\n",
      "2         AARON,  KARINA            POLICE OFFICER            POLICE\n",
      "3    AARON,  KIMBERLEI R  CHIEF CONTRACT EXPEDITER  GENERAL SERVICES\n",
      "4    ABAD JR,  VICENTE M         CIVIL ENGINEER IV       WATER MGMNT\n",
      "5        ABARCA,  ANABEL      ASST TO THE ALDERMAN      CITY COUNCIL\n",
      "6      ABARCA,  EMMANUEL     GENERAL LABORER - DSS     STREETS & SAN\n",
      "7  ABBATACOLA,  ROBERT J       ELECTRICAL MECHANIC          AVIATION\n",
      "8  ABBATEMARCO,  JAMES J             FIRE ENGINEER              FIRE\n",
      "9       ABBATE,  TERRY M            POLICE OFFICER            POLICE\n"
     ]
    }
   ],
   "source": [
    "print(dx)"
   ]
  },
  {
   "cell_type": "code",
   "execution_count": null,
   "metadata": {
    "colab": {
     "base_uri": "https://localhost:8080/"
    },
    "executionInfo": {
     "elapsed": 847,
     "status": "ok",
     "timestamp": 1619989445814,
     "user": {
      "displayName": "Pedro Henrique Menezes",
      "photoUrl": "",
      "userId": "12021089369134471983"
     },
     "user_tz": 180
    },
    "id": "Er97MNDSlIg9",
    "outputId": "b6ef599c-b1b0-42f2-8354-d32fbd528172"
   },
   "outputs": [
    {
     "data": {
      "text/plain": [
       "(10, 3)"
      ]
     },
     "execution_count": 9,
     "metadata": {
      "tags": []
     },
     "output_type": "execute_result"
    }
   ],
   "source": [
    "dx.shape"
   ]
  },
  {
   "cell_type": "code",
   "execution_count": null,
   "metadata": {
    "id": "Yn-tElK4lrdu"
   },
   "outputs": [],
   "source": [
    "fileexcel = \"/content/drive/MyDrive/Colab Notebooks/Vendas.xlsx\""
   ]
  },
  {
   "cell_type": "code",
   "execution_count": null,
   "metadata": {
    "colab": {
     "base_uri": "https://localhost:8080/",
     "height": 204
    },
    "executionInfo": {
     "elapsed": 8300,
     "status": "ok",
     "timestamp": 1619989777450,
     "user": {
      "displayName": "Pedro Henrique Menezes",
      "photoUrl": "",
      "userId": "12021089369134471983"
     },
     "user_tz": 180
    },
    "id": "corFIUY-p5pp",
    "outputId": "b599c45f-c24b-4bda-fe90-17a07f079160"
   },
   "outputs": [
    {
     "data": {
      "text/html": [
       "<div>\n",
       "<style scoped>\n",
       "    .dataframe tbody tr th:only-of-type {\n",
       "        vertical-align: middle;\n",
       "    }\n",
       "\n",
       "    .dataframe tbody tr th {\n",
       "        vertical-align: top;\n",
       "    }\n",
       "\n",
       "    .dataframe thead th {\n",
       "        text-align: right;\n",
       "    }\n",
       "</style>\n",
       "<table border=\"1\" class=\"dataframe\">\n",
       "  <thead>\n",
       "    <tr style=\"text-align: right;\">\n",
       "      <th></th>\n",
       "      <th>Código Venda</th>\n",
       "      <th>Data</th>\n",
       "      <th>ID Loja</th>\n",
       "      <th>Produto</th>\n",
       "      <th>Quantidade</th>\n",
       "      <th>Valor Unitário</th>\n",
       "      <th>Valor Final</th>\n",
       "    </tr>\n",
       "  </thead>\n",
       "  <tbody>\n",
       "    <tr>\n",
       "      <th>0</th>\n",
       "      <td>1</td>\n",
       "      <td>2019-01-01</td>\n",
       "      <td>Iguatemi Esplanada</td>\n",
       "      <td>Sapato Estampa</td>\n",
       "      <td>1</td>\n",
       "      <td>358</td>\n",
       "      <td>358</td>\n",
       "    </tr>\n",
       "    <tr>\n",
       "      <th>1</th>\n",
       "      <td>1</td>\n",
       "      <td>2019-01-01</td>\n",
       "      <td>Iguatemi Esplanada</td>\n",
       "      <td>Camiseta</td>\n",
       "      <td>2</td>\n",
       "      <td>180</td>\n",
       "      <td>360</td>\n",
       "    </tr>\n",
       "    <tr>\n",
       "      <th>2</th>\n",
       "      <td>1</td>\n",
       "      <td>2019-01-01</td>\n",
       "      <td>Iguatemi Esplanada</td>\n",
       "      <td>Sapato Xadrez</td>\n",
       "      <td>1</td>\n",
       "      <td>368</td>\n",
       "      <td>368</td>\n",
       "    </tr>\n",
       "    <tr>\n",
       "      <th>3</th>\n",
       "      <td>2</td>\n",
       "      <td>2019-01-02</td>\n",
       "      <td>Norte Shopping</td>\n",
       "      <td>Relógio</td>\n",
       "      <td>3</td>\n",
       "      <td>200</td>\n",
       "      <td>600</td>\n",
       "    </tr>\n",
       "    <tr>\n",
       "      <th>4</th>\n",
       "      <td>2</td>\n",
       "      <td>2019-01-02</td>\n",
       "      <td>Norte Shopping</td>\n",
       "      <td>Chinelo Liso</td>\n",
       "      <td>1</td>\n",
       "      <td>71</td>\n",
       "      <td>71</td>\n",
       "    </tr>\n",
       "  </tbody>\n",
       "</table>\n",
       "</div>"
      ],
      "text/plain": [
       "   Código Venda       Data  ... Valor Unitário Valor Final\n",
       "0             1 2019-01-01  ...            358         358\n",
       "1             1 2019-01-01  ...            180         360\n",
       "2             1 2019-01-01  ...            368         368\n",
       "3             2 2019-01-02  ...            200         600\n",
       "4             2 2019-01-02  ...             71          71\n",
       "\n",
       "[5 rows x 7 columns]"
      ]
     },
     "execution_count": 12,
     "metadata": {
      "tags": []
     },
     "output_type": "execute_result"
    }
   ],
   "source": [
    "dy = pd.read_excel(fileexcel, sheet_name= 1)\n",
    "dy.head()"
   ]
  },
  {
   "cell_type": "code",
   "execution_count": null,
   "metadata": {
    "colab": {
     "base_uri": "https://localhost:8080/"
    },
    "executionInfo": {
     "elapsed": 802,
     "status": "ok",
     "timestamp": 1616177360908,
     "user": {
      "displayName": "Pedro Henrique Menezes",
      "photoUrl": "",
      "userId": "12021089369134471983"
     },
     "user_tz": 180
    },
    "id": "77w6m3UpqEey",
    "outputId": "4a7cec75-db28-48f6-ce55-bfc8aef323d6"
   },
   "outputs": [
    {
     "data": {
      "text/plain": [
       "(7, 7)"
      ]
     },
     "execution_count": 30,
     "metadata": {
      "tags": []
     },
     "output_type": "execute_result"
    }
   ],
   "source": [
    "dy.shape\n"
   ]
  },
  {
   "cell_type": "code",
   "execution_count": null,
   "metadata": {
    "id": "4-XhIYL-sB6s"
   },
   "outputs": [],
   "source": [
    "#verificando nome das abas\n",
    "verifcar = pd.ExcelFile(\"/content/drive/MyDrive/Colab Notebooks/Vendas.xlsx\")"
   ]
  },
  {
   "cell_type": "code",
   "execution_count": null,
   "metadata": {
    "colab": {
     "base_uri": "https://localhost:8080/"
    },
    "executionInfo": {
     "elapsed": 557,
     "status": "ok",
     "timestamp": 1619886640350,
     "user": {
      "displayName": "Pedro Henrique Menezes",
      "photoUrl": "",
      "userId": "12021089369134471983"
     },
     "user_tz": 180
    },
    "id": "OK7YmfCBsk8M",
    "outputId": "5185c32e-e40e-43c8-f8cb-4faa73ce5940"
   },
   "outputs": [
    {
     "data": {
      "text/plain": [
       "['Plan1', 'Planilha1']"
      ]
     },
     "execution_count": 13,
     "metadata": {
      "tags": []
     },
     "output_type": "execute_result"
    }
   ],
   "source": [
    "verifcar.sheet_names"
   ]
  },
  {
   "cell_type": "code",
   "execution_count": null,
   "metadata": {
    "id": "lSehxuaHyXz1"
   },
   "outputs": [],
   "source": [
    "aba1 = verifcar.parse('Plan1')\n",
    "aba2 = verifcar.parse('Planilha1')"
   ]
  },
  {
   "cell_type": "code",
   "execution_count": null,
   "metadata": {
    "colab": {
     "base_uri": "https://localhost:8080/",
     "height": 204
    },
    "executionInfo": {
     "elapsed": 813,
     "status": "ok",
     "timestamp": 1619886701271,
     "user": {
      "displayName": "Pedro Henrique Menezes",
      "photoUrl": "",
      "userId": "12021089369134471983"
     },
     "user_tz": 180
    },
    "id": "Wij31-9_ynEV",
    "outputId": "c9fa28fb-f730-43d1-f61f-d0f841fe9df7"
   },
   "outputs": [
    {
     "data": {
      "text/html": [
       "<div>\n",
       "<style scoped>\n",
       "    .dataframe tbody tr th:only-of-type {\n",
       "        vertical-align: middle;\n",
       "    }\n",
       "\n",
       "    .dataframe tbody tr th {\n",
       "        vertical-align: top;\n",
       "    }\n",
       "\n",
       "    .dataframe thead th {\n",
       "        text-align: right;\n",
       "    }\n",
       "</style>\n",
       "<table border=\"1\" class=\"dataframe\">\n",
       "  <thead>\n",
       "    <tr style=\"text-align: right;\">\n",
       "      <th></th>\n",
       "      <th>Código Venda</th>\n",
       "      <th>Data</th>\n",
       "      <th>ID Loja</th>\n",
       "      <th>Produto</th>\n",
       "      <th>Quantidade</th>\n",
       "      <th>Valor Unitário</th>\n",
       "      <th>Valor Final</th>\n",
       "    </tr>\n",
       "  </thead>\n",
       "  <tbody>\n",
       "    <tr>\n",
       "      <th>0</th>\n",
       "      <td>1</td>\n",
       "      <td>2019-01-01</td>\n",
       "      <td>Iguatemi Esplanada</td>\n",
       "      <td>Sapato Estampa</td>\n",
       "      <td>1</td>\n",
       "      <td>358</td>\n",
       "      <td>358</td>\n",
       "    </tr>\n",
       "    <tr>\n",
       "      <th>1</th>\n",
       "      <td>1</td>\n",
       "      <td>2019-01-01</td>\n",
       "      <td>Iguatemi Esplanada</td>\n",
       "      <td>Camiseta</td>\n",
       "      <td>2</td>\n",
       "      <td>180</td>\n",
       "      <td>360</td>\n",
       "    </tr>\n",
       "    <tr>\n",
       "      <th>2</th>\n",
       "      <td>1</td>\n",
       "      <td>2019-01-01</td>\n",
       "      <td>Iguatemi Esplanada</td>\n",
       "      <td>Sapato Xadrez</td>\n",
       "      <td>1</td>\n",
       "      <td>368</td>\n",
       "      <td>368</td>\n",
       "    </tr>\n",
       "    <tr>\n",
       "      <th>3</th>\n",
       "      <td>2</td>\n",
       "      <td>2019-01-02</td>\n",
       "      <td>Norte Shopping</td>\n",
       "      <td>Relógio</td>\n",
       "      <td>3</td>\n",
       "      <td>200</td>\n",
       "      <td>600</td>\n",
       "    </tr>\n",
       "    <tr>\n",
       "      <th>4</th>\n",
       "      <td>2</td>\n",
       "      <td>2019-01-02</td>\n",
       "      <td>Norte Shopping</td>\n",
       "      <td>Chinelo Liso</td>\n",
       "      <td>1</td>\n",
       "      <td>71</td>\n",
       "      <td>71</td>\n",
       "    </tr>\n",
       "  </tbody>\n",
       "</table>\n",
       "</div>"
      ],
      "text/plain": [
       "   Código Venda       Data  ... Valor Unitário Valor Final\n",
       "0             1 2019-01-01  ...            358         358\n",
       "1             1 2019-01-01  ...            180         360\n",
       "2             1 2019-01-01  ...            368         368\n",
       "3             2 2019-01-02  ...            200         600\n",
       "4             2 2019-01-02  ...             71          71\n",
       "\n",
       "[5 rows x 7 columns]"
      ]
     },
     "execution_count": 16,
     "metadata": {
      "tags": []
     },
     "output_type": "execute_result"
    }
   ],
   "source": [
    "aba2.head()"
   ]
  },
  {
   "cell_type": "code",
   "execution_count": null,
   "metadata": {
    "id": "WB5Rcy0MyzBM"
   },
   "outputs": [],
   "source": [
    "#selecionando dados"
   ]
  },
  {
   "cell_type": "code",
   "execution_count": null,
   "metadata": {
    "id": "rtSlTEk000SM"
   },
   "outputs": [],
   "source": [
    "# um a ou n colunas por índice"
   ]
  },
  {
   "cell_type": "code",
   "execution_count": null,
   "metadata": {
    "colab": {
     "base_uri": "https://localhost:8080/"
    },
    "executionInfo": {
     "elapsed": 751,
     "status": "ok",
     "timestamp": 1619887838875,
     "user": {
      "displayName": "Pedro Henrique Menezes",
      "photoUrl": "",
      "userId": "12021089369134471983"
     },
     "user_tz": 180
    },
    "id": "dwpzhG9m1J51",
    "outputId": "b366816e-28a7-42b8-b62b-882fca8e427f"
   },
   "outputs": [
    {
     "data": {
      "text/plain": [
       "0    Iguatemi Esplanada\n",
       "1    Iguatemi Esplanada\n",
       "2    Iguatemi Esplanada\n",
       "3        Norte Shopping\n",
       "4        Norte Shopping\n",
       "Name: ID Loja, dtype: object"
      ]
     },
     "execution_count": 18,
     "metadata": {
      "tags": []
     },
     "output_type": "execute_result"
    }
   ],
   "source": [
    "df[\"ID Loja\"].head()"
   ]
  },
  {
   "cell_type": "code",
   "execution_count": null,
   "metadata": {
    "id": "Xn749AtY1y2O"
   },
   "outputs": [],
   "source": [
    "df.loc[0:20, [\"Produto\",\"ID Loja\"]]"
   ]
  },
  {
   "cell_type": "code",
   "execution_count": null,
   "metadata": {
    "colab": {
     "base_uri": "https://localhost:8080/"
    },
    "executionInfo": {
     "elapsed": 633,
     "status": "ok",
     "timestamp": 1619888245612,
     "user": {
      "displayName": "Pedro Henrique Menezes",
      "photoUrl": "",
      "userId": "12021089369134471983"
     },
     "user_tz": 180
    },
    "id": "4B7zMQh52uOW",
    "outputId": "cf177f80-4275-4b33-9772-812c3dff1a33"
   },
   "outputs": [
    {
     "data": {
      "text/plain": [
       "0    Sapato Estampa\n",
       "1          Camiseta\n",
       "2     Sapato Xadrez\n",
       "3           Relógio\n",
       "4      Chinelo Liso\n",
       "Name: Produto, dtype: object"
      ]
     },
     "execution_count": 22,
     "metadata": {
      "tags": []
     },
     "output_type": "execute_result"
    }
   ],
   "source": [
    "#selecionando por notação de ponto\n",
    "df.Produto.head()"
   ]
  },
  {
   "cell_type": "code",
   "execution_count": null,
   "metadata": {
    "id": "9nA8MEGx3mBB"
   },
   "outputs": [],
   "source": [
    "df[\"nova\"] = df[\"Produto\"] + df[\"ID Loja\"]"
   ]
  },
  {
   "cell_type": "code",
   "execution_count": null,
   "metadata": {
    "colab": {
     "base_uri": "https://localhost:8080/",
     "height": 204
    },
    "executionInfo": {
     "elapsed": 764,
     "status": "ok",
     "timestamp": 1619888566667,
     "user": {
      "displayName": "Pedro Henrique Menezes",
      "photoUrl": "",
      "userId": "12021089369134471983"
     },
     "user_tz": 180
    },
    "id": "fJlqkxL14ceW",
    "outputId": "b0fb0429-891f-400e-a08c-090be41a2a7e"
   },
   "outputs": [
    {
     "data": {
      "text/html": [
       "<div>\n",
       "<style scoped>\n",
       "    .dataframe tbody tr th:only-of-type {\n",
       "        vertical-align: middle;\n",
       "    }\n",
       "\n",
       "    .dataframe tbody tr th {\n",
       "        vertical-align: top;\n",
       "    }\n",
       "\n",
       "    .dataframe thead th {\n",
       "        text-align: right;\n",
       "    }\n",
       "</style>\n",
       "<table border=\"1\" class=\"dataframe\">\n",
       "  <thead>\n",
       "    <tr style=\"text-align: right;\">\n",
       "      <th></th>\n",
       "      <th>Código Venda</th>\n",
       "      <th>Data</th>\n",
       "      <th>ID Loja</th>\n",
       "      <th>Produto</th>\n",
       "      <th>Quantidade</th>\n",
       "      <th>Valor Unitário</th>\n",
       "      <th>Valor Final</th>\n",
       "      <th>nova</th>\n",
       "    </tr>\n",
       "  </thead>\n",
       "  <tbody>\n",
       "    <tr>\n",
       "      <th>0</th>\n",
       "      <td>1</td>\n",
       "      <td>2019-01-01</td>\n",
       "      <td>Iguatemi Esplanada</td>\n",
       "      <td>Sapato Estampa</td>\n",
       "      <td>1</td>\n",
       "      <td>358</td>\n",
       "      <td>358</td>\n",
       "      <td>Sapato EstampaIguatemi Esplanada</td>\n",
       "    </tr>\n",
       "    <tr>\n",
       "      <th>1</th>\n",
       "      <td>1</td>\n",
       "      <td>2019-01-01</td>\n",
       "      <td>Iguatemi Esplanada</td>\n",
       "      <td>Camiseta</td>\n",
       "      <td>2</td>\n",
       "      <td>180</td>\n",
       "      <td>360</td>\n",
       "      <td>CamisetaIguatemi Esplanada</td>\n",
       "    </tr>\n",
       "    <tr>\n",
       "      <th>2</th>\n",
       "      <td>1</td>\n",
       "      <td>2019-01-01</td>\n",
       "      <td>Iguatemi Esplanada</td>\n",
       "      <td>Sapato Xadrez</td>\n",
       "      <td>1</td>\n",
       "      <td>368</td>\n",
       "      <td>368</td>\n",
       "      <td>Sapato XadrezIguatemi Esplanada</td>\n",
       "    </tr>\n",
       "    <tr>\n",
       "      <th>3</th>\n",
       "      <td>2</td>\n",
       "      <td>2019-01-02</td>\n",
       "      <td>Norte Shopping</td>\n",
       "      <td>Relógio</td>\n",
       "      <td>3</td>\n",
       "      <td>200</td>\n",
       "      <td>600</td>\n",
       "      <td>RelógioNorte Shopping</td>\n",
       "    </tr>\n",
       "    <tr>\n",
       "      <th>4</th>\n",
       "      <td>2</td>\n",
       "      <td>2019-01-02</td>\n",
       "      <td>Norte Shopping</td>\n",
       "      <td>Chinelo Liso</td>\n",
       "      <td>1</td>\n",
       "      <td>71</td>\n",
       "      <td>71</td>\n",
       "      <td>Chinelo LisoNorte Shopping</td>\n",
       "    </tr>\n",
       "  </tbody>\n",
       "</table>\n",
       "</div>"
      ],
      "text/plain": [
       "   Código Venda       Data  ... Valor Final                              nova\n",
       "0             1 2019-01-01  ...         358  Sapato EstampaIguatemi Esplanada\n",
       "1             1 2019-01-01  ...         360        CamisetaIguatemi Esplanada\n",
       "2             1 2019-01-01  ...         368   Sapato XadrezIguatemi Esplanada\n",
       "3             2 2019-01-02  ...         600             RelógioNorte Shopping\n",
       "4             2 2019-01-02  ...          71        Chinelo LisoNorte Shopping\n",
       "\n",
       "[5 rows x 8 columns]"
      ]
     },
     "execution_count": 24,
     "metadata": {
      "tags": []
     },
     "output_type": "execute_result"
    }
   ],
   "source": [
    "df.head()"
   ]
  },
  {
   "cell_type": "code",
   "execution_count": null,
   "metadata": {
    "id": "KguzboYi6-0E"
   },
   "outputs": [],
   "source": [
    "#usando o loc "
   ]
  },
  {
   "cell_type": "code",
   "execution_count": null,
   "metadata": {
    "colab": {
     "base_uri": "https://localhost:8080/",
     "height": 142
    },
    "executionInfo": {
     "elapsed": 594,
     "status": "ok",
     "timestamp": 1619889570356,
     "user": {
      "displayName": "Pedro Henrique Menezes",
      "photoUrl": "",
      "userId": "12021089369134471983"
     },
     "user_tz": 180
    },
    "id": "0Sr4ryL78QlZ",
    "outputId": "8bb56902-e9e7-454c-fc51-9cbd3bd392ca"
   },
   "outputs": [
    {
     "data": {
      "text/html": [
       "<div>\n",
       "<style scoped>\n",
       "    .dataframe tbody tr th:only-of-type {\n",
       "        vertical-align: middle;\n",
       "    }\n",
       "\n",
       "    .dataframe tbody tr th {\n",
       "        vertical-align: top;\n",
       "    }\n",
       "\n",
       "    .dataframe thead th {\n",
       "        text-align: right;\n",
       "    }\n",
       "</style>\n",
       "<table border=\"1\" class=\"dataframe\">\n",
       "  <thead>\n",
       "    <tr style=\"text-align: right;\">\n",
       "      <th></th>\n",
       "      <th>Código Venda</th>\n",
       "      <th>Data</th>\n",
       "      <th>ID Loja</th>\n",
       "      <th>Produto</th>\n",
       "      <th>Quantidade</th>\n",
       "      <th>Valor Unitário</th>\n",
       "      <th>Valor Final</th>\n",
       "      <th>nova</th>\n",
       "    </tr>\n",
       "  </thead>\n",
       "  <tbody>\n",
       "    <tr>\n",
       "      <th>1</th>\n",
       "      <td>1</td>\n",
       "      <td>2019-01-01</td>\n",
       "      <td>Iguatemi Esplanada</td>\n",
       "      <td>Camiseta</td>\n",
       "      <td>2</td>\n",
       "      <td>180</td>\n",
       "      <td>360</td>\n",
       "      <td>CamisetaIguatemi Esplanada</td>\n",
       "    </tr>\n",
       "    <tr>\n",
       "      <th>2</th>\n",
       "      <td>1</td>\n",
       "      <td>2019-01-01</td>\n",
       "      <td>Iguatemi Esplanada</td>\n",
       "      <td>Sapato Xadrez</td>\n",
       "      <td>1</td>\n",
       "      <td>368</td>\n",
       "      <td>368</td>\n",
       "      <td>Sapato XadrezIguatemi Esplanada</td>\n",
       "    </tr>\n",
       "    <tr>\n",
       "      <th>8</th>\n",
       "      <td>7</td>\n",
       "      <td>2019-01-02</td>\n",
       "      <td>Norte Shopping</td>\n",
       "      <td>Camisa Gola V Listrado</td>\n",
       "      <td>1</td>\n",
       "      <td>116</td>\n",
       "      <td>116</td>\n",
       "      <td>Camisa Gola V ListradoNorte Shopping</td>\n",
       "    </tr>\n",
       "  </tbody>\n",
       "</table>\n",
       "</div>"
      ],
      "text/plain": [
       "   Código Venda       Data  ... Valor Final                                  nova\n",
       "1             1 2019-01-01  ...         360            CamisetaIguatemi Esplanada\n",
       "2             1 2019-01-01  ...         368       Sapato XadrezIguatemi Esplanada\n",
       "8             7 2019-01-02  ...         116  Camisa Gola V ListradoNorte Shopping\n",
       "\n",
       "[3 rows x 8 columns]"
      ]
     },
     "execution_count": 30,
     "metadata": {
      "tags": []
     },
     "output_type": "execute_result"
    }
   ],
   "source": [
    "df.loc[[1,2,8]]"
   ]
  },
  {
   "cell_type": "code",
   "execution_count": null,
   "metadata": {
    "colab": {
     "base_uri": "https://localhost:8080/"
    },
    "executionInfo": {
     "elapsed": 548,
     "status": "ok",
     "timestamp": 1619889297812,
     "user": {
      "displayName": "Pedro Henrique Menezes",
      "photoUrl": "",
      "userId": "12021089369134471983"
     },
     "user_tz": 180
    },
    "id": "c0ILVXdk7Aw9",
    "outputId": "dd897957-174c-470a-9f14-5a0b2eb38451"
   },
   "outputs": [
    {
     "data": {
      "text/plain": [
       "0     1\n",
       "1     1\n",
       "2     1\n",
       "3     2\n",
       "4     2\n",
       "5     3\n",
       "6     5\n",
       "7     6\n",
       "8     7\n",
       "9     7\n",
       "10    8\n",
       "Name: Código Venda, dtype: int64"
      ]
     },
     "execution_count": 27,
     "metadata": {
      "tags": []
     },
     "output_type": "execute_result"
    }
   ],
   "source": [
    "df.loc[0:10, \"Código Venda\" ]"
   ]
  },
  {
   "cell_type": "code",
   "execution_count": null,
   "metadata": {
    "colab": {
     "base_uri": "https://localhost:8080/",
     "height": 390
    },
    "executionInfo": {
     "elapsed": 602,
     "status": "ok",
     "timestamp": 1619889348401,
     "user": {
      "displayName": "Pedro Henrique Menezes",
      "photoUrl": "",
      "userId": "12021089369134471983"
     },
     "user_tz": 180
    },
    "id": "ywwjlKCO7S8R",
    "outputId": "aae782f9-6bc6-4d63-9759-833ded2dac8e"
   },
   "outputs": [
    {
     "data": {
      "text/html": [
       "<div>\n",
       "<style scoped>\n",
       "    .dataframe tbody tr th:only-of-type {\n",
       "        vertical-align: middle;\n",
       "    }\n",
       "\n",
       "    .dataframe tbody tr th {\n",
       "        vertical-align: top;\n",
       "    }\n",
       "\n",
       "    .dataframe thead th {\n",
       "        text-align: right;\n",
       "    }\n",
       "</style>\n",
       "<table border=\"1\" class=\"dataframe\">\n",
       "  <thead>\n",
       "    <tr style=\"text-align: right;\">\n",
       "      <th></th>\n",
       "      <th>Código Venda</th>\n",
       "      <th>Data</th>\n",
       "    </tr>\n",
       "  </thead>\n",
       "  <tbody>\n",
       "    <tr>\n",
       "      <th>0</th>\n",
       "      <td>1</td>\n",
       "      <td>2019-01-01</td>\n",
       "    </tr>\n",
       "    <tr>\n",
       "      <th>1</th>\n",
       "      <td>1</td>\n",
       "      <td>2019-01-01</td>\n",
       "    </tr>\n",
       "    <tr>\n",
       "      <th>2</th>\n",
       "      <td>1</td>\n",
       "      <td>2019-01-01</td>\n",
       "    </tr>\n",
       "    <tr>\n",
       "      <th>3</th>\n",
       "      <td>2</td>\n",
       "      <td>2019-01-02</td>\n",
       "    </tr>\n",
       "    <tr>\n",
       "      <th>4</th>\n",
       "      <td>2</td>\n",
       "      <td>2019-01-02</td>\n",
       "    </tr>\n",
       "    <tr>\n",
       "      <th>5</th>\n",
       "      <td>3</td>\n",
       "      <td>2019-01-02</td>\n",
       "    </tr>\n",
       "    <tr>\n",
       "      <th>6</th>\n",
       "      <td>5</td>\n",
       "      <td>2019-01-02</td>\n",
       "    </tr>\n",
       "    <tr>\n",
       "      <th>7</th>\n",
       "      <td>6</td>\n",
       "      <td>2019-01-02</td>\n",
       "    </tr>\n",
       "    <tr>\n",
       "      <th>8</th>\n",
       "      <td>7</td>\n",
       "      <td>2019-01-02</td>\n",
       "    </tr>\n",
       "    <tr>\n",
       "      <th>9</th>\n",
       "      <td>7</td>\n",
       "      <td>2019-01-02</td>\n",
       "    </tr>\n",
       "    <tr>\n",
       "      <th>10</th>\n",
       "      <td>8</td>\n",
       "      <td>2019-01-02</td>\n",
       "    </tr>\n",
       "  </tbody>\n",
       "</table>\n",
       "</div>"
      ],
      "text/plain": [
       "    Código Venda       Data\n",
       "0              1 2019-01-01\n",
       "1              1 2019-01-01\n",
       "2              1 2019-01-01\n",
       "3              2 2019-01-02\n",
       "4              2 2019-01-02\n",
       "5              3 2019-01-02\n",
       "6              5 2019-01-02\n",
       "7              6 2019-01-02\n",
       "8              7 2019-01-02\n",
       "9              7 2019-01-02\n",
       "10             8 2019-01-02"
      ]
     },
     "execution_count": 28,
     "metadata": {
      "tags": []
     },
     "output_type": "execute_result"
    }
   ],
   "source": [
    "df.loc[0:10, [\"Código Venda\", \"Data\"]]"
   ]
  },
  {
   "cell_type": "code",
   "execution_count": null,
   "metadata": {
    "id": "u39mGnLE7yOR"
   },
   "outputs": [],
   "source": [
    "#usando o iloc"
   ]
  },
  {
   "cell_type": "code",
   "execution_count": null,
   "metadata": {
    "id": "MJdz9N7N7z35"
   },
   "outputs": [],
   "source": [
    "#usa apenas intervalos numéricos\n",
    "#não inclui o último indice\n"
   ]
  },
  {
   "cell_type": "code",
   "execution_count": null,
   "metadata": {
    "id": "Lz-CxTei8aDZ"
   },
   "outputs": [],
   "source": [
    "df.iloc[0:10]"
   ]
  },
  {
   "cell_type": "code",
   "execution_count": null,
   "metadata": {
    "colab": {
     "base_uri": "https://localhost:8080/",
     "height": 359
    },
    "executionInfo": {
     "elapsed": 598,
     "status": "ok",
     "timestamp": 1619889714834,
     "user": {
      "displayName": "Pedro Henrique Menezes",
      "photoUrl": "",
      "userId": "12021089369134471983"
     },
     "user_tz": 180
    },
    "id": "Y0nSsJVA8u2C",
    "outputId": "8548a38d-3865-4851-ccf3-9a4c9fd0b288"
   },
   "outputs": [
    {
     "data": {
      "text/html": [
       "<div>\n",
       "<style scoped>\n",
       "    .dataframe tbody tr th:only-of-type {\n",
       "        vertical-align: middle;\n",
       "    }\n",
       "\n",
       "    .dataframe tbody tr th {\n",
       "        vertical-align: top;\n",
       "    }\n",
       "\n",
       "    .dataframe thead th {\n",
       "        text-align: right;\n",
       "    }\n",
       "</style>\n",
       "<table border=\"1\" class=\"dataframe\">\n",
       "  <thead>\n",
       "    <tr style=\"text-align: right;\">\n",
       "      <th></th>\n",
       "      <th>Código Venda</th>\n",
       "      <th>Data</th>\n",
       "      <th>ID Loja</th>\n",
       "    </tr>\n",
       "  </thead>\n",
       "  <tbody>\n",
       "    <tr>\n",
       "      <th>0</th>\n",
       "      <td>1</td>\n",
       "      <td>2019-01-01</td>\n",
       "      <td>Iguatemi Esplanada</td>\n",
       "    </tr>\n",
       "    <tr>\n",
       "      <th>1</th>\n",
       "      <td>1</td>\n",
       "      <td>2019-01-01</td>\n",
       "      <td>Iguatemi Esplanada</td>\n",
       "    </tr>\n",
       "    <tr>\n",
       "      <th>2</th>\n",
       "      <td>1</td>\n",
       "      <td>2019-01-01</td>\n",
       "      <td>Iguatemi Esplanada</td>\n",
       "    </tr>\n",
       "    <tr>\n",
       "      <th>3</th>\n",
       "      <td>2</td>\n",
       "      <td>2019-01-02</td>\n",
       "      <td>Norte Shopping</td>\n",
       "    </tr>\n",
       "    <tr>\n",
       "      <th>4</th>\n",
       "      <td>2</td>\n",
       "      <td>2019-01-02</td>\n",
       "      <td>Norte Shopping</td>\n",
       "    </tr>\n",
       "    <tr>\n",
       "      <th>5</th>\n",
       "      <td>3</td>\n",
       "      <td>2019-01-02</td>\n",
       "      <td>Rio Mar Shopping Fortaleza</td>\n",
       "    </tr>\n",
       "    <tr>\n",
       "      <th>6</th>\n",
       "      <td>5</td>\n",
       "      <td>2019-01-02</td>\n",
       "      <td>Shopping Barra</td>\n",
       "    </tr>\n",
       "    <tr>\n",
       "      <th>7</th>\n",
       "      <td>6</td>\n",
       "      <td>2019-01-02</td>\n",
       "      <td>Shopping Ibirapuera</td>\n",
       "    </tr>\n",
       "    <tr>\n",
       "      <th>8</th>\n",
       "      <td>7</td>\n",
       "      <td>2019-01-02</td>\n",
       "      <td>Norte Shopping</td>\n",
       "    </tr>\n",
       "    <tr>\n",
       "      <th>9</th>\n",
       "      <td>7</td>\n",
       "      <td>2019-01-02</td>\n",
       "      <td>Norte Shopping</td>\n",
       "    </tr>\n",
       "  </tbody>\n",
       "</table>\n",
       "</div>"
      ],
      "text/plain": [
       "   Código Venda       Data                     ID Loja\n",
       "0             1 2019-01-01          Iguatemi Esplanada\n",
       "1             1 2019-01-01          Iguatemi Esplanada\n",
       "2             1 2019-01-01          Iguatemi Esplanada\n",
       "3             2 2019-01-02              Norte Shopping\n",
       "4             2 2019-01-02              Norte Shopping\n",
       "5             3 2019-01-02  Rio Mar Shopping Fortaleza\n",
       "6             5 2019-01-02              Shopping Barra\n",
       "7             6 2019-01-02         Shopping Ibirapuera\n",
       "8             7 2019-01-02              Norte Shopping\n",
       "9             7 2019-01-02              Norte Shopping"
      ]
     },
     "execution_count": 33,
     "metadata": {
      "tags": []
     },
     "output_type": "execute_result"
    }
   ],
   "source": [
    "df.iloc[0:10, 0:3]"
   ]
  },
  {
   "cell_type": "code",
   "execution_count": null,
   "metadata": {
    "colab": {
     "base_uri": "https://localhost:8080/",
     "height": 142
    },
    "executionInfo": {
     "elapsed": 1312,
     "status": "ok",
     "timestamp": 1619889824121,
     "user": {
      "displayName": "Pedro Henrique Menezes",
      "photoUrl": "",
      "userId": "12021089369134471983"
     },
     "user_tz": 180
    },
    "id": "umq2Pk5G9HtB",
    "outputId": "5f02706d-e6bb-4cd4-ac7c-981f3855f89f"
   },
   "outputs": [
    {
     "data": {
      "text/html": [
       "<div>\n",
       "<style scoped>\n",
       "    .dataframe tbody tr th:only-of-type {\n",
       "        vertical-align: middle;\n",
       "    }\n",
       "\n",
       "    .dataframe tbody tr th {\n",
       "        vertical-align: top;\n",
       "    }\n",
       "\n",
       "    .dataframe thead th {\n",
       "        text-align: right;\n",
       "    }\n",
       "</style>\n",
       "<table border=\"1\" class=\"dataframe\">\n",
       "  <thead>\n",
       "    <tr style=\"text-align: right;\">\n",
       "      <th></th>\n",
       "      <th>Código Venda</th>\n",
       "      <th>Data</th>\n",
       "      <th>ID Loja</th>\n",
       "    </tr>\n",
       "  </thead>\n",
       "  <tbody>\n",
       "    <tr>\n",
       "      <th>0</th>\n",
       "      <td>1</td>\n",
       "      <td>2019-01-01</td>\n",
       "      <td>Iguatemi Esplanada</td>\n",
       "    </tr>\n",
       "    <tr>\n",
       "      <th>1</th>\n",
       "      <td>1</td>\n",
       "      <td>2019-01-01</td>\n",
       "      <td>Iguatemi Esplanada</td>\n",
       "    </tr>\n",
       "    <tr>\n",
       "      <th>3</th>\n",
       "      <td>2</td>\n",
       "      <td>2019-01-02</td>\n",
       "      <td>Norte Shopping</td>\n",
       "    </tr>\n",
       "  </tbody>\n",
       "</table>\n",
       "</div>"
      ],
      "text/plain": [
       "   Código Venda       Data             ID Loja\n",
       "0             1 2019-01-01  Iguatemi Esplanada\n",
       "1             1 2019-01-01  Iguatemi Esplanada\n",
       "3             2 2019-01-02      Norte Shopping"
      ]
     },
     "execution_count": 34,
     "metadata": {
      "tags": []
     },
     "output_type": "execute_result"
    }
   ],
   "source": [
    "df.iloc[[0,1,3], 0:3]"
   ]
  },
  {
   "cell_type": "code",
   "execution_count": null,
   "metadata": {
    "id": "i4xXMc3A_CxT"
   },
   "outputs": [],
   "source": [
    "#usando o  sort_values(Ordenar dados)\n",
    "#implace para gravar a modificação"
   ]
  },
  {
   "cell_type": "code",
   "execution_count": null,
   "metadata": {
    "colab": {
     "base_uri": "https://localhost:8080/",
     "height": 204
    },
    "executionInfo": {
     "elapsed": 625,
     "status": "ok",
     "timestamp": 1619891362478,
     "user": {
      "displayName": "Pedro Henrique Menezes",
      "photoUrl": "",
      "userId": "12021089369134471983"
     },
     "user_tz": 180
    },
    "id": "E002jQO_AuyC",
    "outputId": "4bb6e34a-7a90-4fce-ab19-1796caaab477"
   },
   "outputs": [
    {
     "data": {
      "text/html": [
       "<div>\n",
       "<style scoped>\n",
       "    .dataframe tbody tr th:only-of-type {\n",
       "        vertical-align: middle;\n",
       "    }\n",
       "\n",
       "    .dataframe tbody tr th {\n",
       "        vertical-align: top;\n",
       "    }\n",
       "\n",
       "    .dataframe thead th {\n",
       "        text-align: right;\n",
       "    }\n",
       "</style>\n",
       "<table border=\"1\" class=\"dataframe\">\n",
       "  <thead>\n",
       "    <tr style=\"text-align: right;\">\n",
       "      <th></th>\n",
       "      <th>Código Venda</th>\n",
       "      <th>Data</th>\n",
       "      <th>ID Loja</th>\n",
       "      <th>Produto</th>\n",
       "      <th>Quantidade</th>\n",
       "      <th>Valor Unitário</th>\n",
       "      <th>Valor Final</th>\n",
       "      <th>nova</th>\n",
       "    </tr>\n",
       "  </thead>\n",
       "  <tbody>\n",
       "    <tr>\n",
       "      <th>0</th>\n",
       "      <td>1</td>\n",
       "      <td>2019-01-01</td>\n",
       "      <td>Iguatemi Esplanada</td>\n",
       "      <td>Sapato Estampa</td>\n",
       "      <td>1</td>\n",
       "      <td>358</td>\n",
       "      <td>358</td>\n",
       "      <td>Sapato EstampaIguatemi Esplanada</td>\n",
       "    </tr>\n",
       "    <tr>\n",
       "      <th>1</th>\n",
       "      <td>1</td>\n",
       "      <td>2019-01-01</td>\n",
       "      <td>Iguatemi Esplanada</td>\n",
       "      <td>Camiseta</td>\n",
       "      <td>2</td>\n",
       "      <td>180</td>\n",
       "      <td>360</td>\n",
       "      <td>CamisetaIguatemi Esplanada</td>\n",
       "    </tr>\n",
       "    <tr>\n",
       "      <th>2</th>\n",
       "      <td>1</td>\n",
       "      <td>2019-01-01</td>\n",
       "      <td>Iguatemi Esplanada</td>\n",
       "      <td>Sapato Xadrez</td>\n",
       "      <td>1</td>\n",
       "      <td>368</td>\n",
       "      <td>368</td>\n",
       "      <td>Sapato XadrezIguatemi Esplanada</td>\n",
       "    </tr>\n",
       "    <tr>\n",
       "      <th>194</th>\n",
       "      <td>142</td>\n",
       "      <td>2019-01-02</td>\n",
       "      <td>Shopping Recife</td>\n",
       "      <td>Gorro Xadrez</td>\n",
       "      <td>1</td>\n",
       "      <td>85</td>\n",
       "      <td>85</td>\n",
       "      <td>Gorro XadrezShopping Recife</td>\n",
       "    </tr>\n",
       "    <tr>\n",
       "      <th>193</th>\n",
       "      <td>142</td>\n",
       "      <td>2019-01-02</td>\n",
       "      <td>Shopping Recife</td>\n",
       "      <td>Terno Xadrez</td>\n",
       "      <td>2</td>\n",
       "      <td>709</td>\n",
       "      <td>1418</td>\n",
       "      <td>Terno XadrezShopping Recife</td>\n",
       "    </tr>\n",
       "  </tbody>\n",
       "</table>\n",
       "</div>"
      ],
      "text/plain": [
       "     Código Venda       Data  ... Valor Final                              nova\n",
       "0               1 2019-01-01  ...         358  Sapato EstampaIguatemi Esplanada\n",
       "1               1 2019-01-01  ...         360        CamisetaIguatemi Esplanada\n",
       "2               1 2019-01-01  ...         368   Sapato XadrezIguatemi Esplanada\n",
       "194           142 2019-01-02  ...          85       Gorro XadrezShopping Recife\n",
       "193           142 2019-01-02  ...        1418       Terno XadrezShopping Recife\n",
       "\n",
       "[5 rows x 8 columns]"
      ]
     },
     "execution_count": 37,
     "metadata": {
      "tags": []
     },
     "output_type": "execute_result"
    }
   ],
   "source": [
    "#df.sort_values(\"Data\", inplace =True )\n",
    "df.sort_values(\"Data\").head()"
   ]
  },
  {
   "cell_type": "code",
   "execution_count": null,
   "metadata": {
    "colab": {
     "base_uri": "https://localhost:8080/",
     "height": 204
    },
    "executionInfo": {
     "elapsed": 607,
     "status": "ok",
     "timestamp": 1619891813670,
     "user": {
      "displayName": "Pedro Henrique Menezes",
      "photoUrl": "",
      "userId": "12021089369134471983"
     },
     "user_tz": 180
    },
    "id": "a8V44v_7DHS8",
    "outputId": "81a98dcf-1736-4120-cc20-c7fcfc2f449d"
   },
   "outputs": [
    {
     "data": {
      "text/html": [
       "<div>\n",
       "<style scoped>\n",
       "    .dataframe tbody tr th:only-of-type {\n",
       "        vertical-align: middle;\n",
       "    }\n",
       "\n",
       "    .dataframe tbody tr th {\n",
       "        vertical-align: top;\n",
       "    }\n",
       "\n",
       "    .dataframe thead th {\n",
       "        text-align: right;\n",
       "    }\n",
       "</style>\n",
       "<table border=\"1\" class=\"dataframe\">\n",
       "  <thead>\n",
       "    <tr style=\"text-align: right;\">\n",
       "      <th></th>\n",
       "      <th>Código Venda</th>\n",
       "      <th>Data</th>\n",
       "      <th>ID Loja</th>\n",
       "      <th>Produto</th>\n",
       "      <th>Quantidade</th>\n",
       "      <th>Valor Unitário</th>\n",
       "      <th>Valor Final</th>\n",
       "      <th>nova</th>\n",
       "    </tr>\n",
       "  </thead>\n",
       "  <tbody>\n",
       "    <tr>\n",
       "      <th>89406</th>\n",
       "      <td>61896</td>\n",
       "      <td>2019-11-15</td>\n",
       "      <td>Bourbon Shopping SP</td>\n",
       "      <td>Short Xadrez</td>\n",
       "      <td>2</td>\n",
       "      <td>100</td>\n",
       "      <td>200</td>\n",
       "      <td>Short XadrezBourbon Shopping SP</td>\n",
       "    </tr>\n",
       "    <tr>\n",
       "      <th>48745</th>\n",
       "      <td>33632</td>\n",
       "      <td>2019-06-23</td>\n",
       "      <td>Bourbon Shopping SP</td>\n",
       "      <td>Relógio Listrado</td>\n",
       "      <td>3</td>\n",
       "      <td>218</td>\n",
       "      <td>654</td>\n",
       "      <td>Relógio ListradoBourbon Shopping SP</td>\n",
       "    </tr>\n",
       "    <tr>\n",
       "      <th>48743</th>\n",
       "      <td>33630</td>\n",
       "      <td>2019-06-23</td>\n",
       "      <td>Bourbon Shopping SP</td>\n",
       "      <td>Calça Estampa</td>\n",
       "      <td>2</td>\n",
       "      <td>177</td>\n",
       "      <td>354</td>\n",
       "      <td>Calça EstampaBourbon Shopping SP</td>\n",
       "    </tr>\n",
       "    <tr>\n",
       "      <th>62090</th>\n",
       "      <td>42929</td>\n",
       "      <td>2019-08-10</td>\n",
       "      <td>Bourbon Shopping SP</td>\n",
       "      <td>Relógio Listrado</td>\n",
       "      <td>1</td>\n",
       "      <td>218</td>\n",
       "      <td>218</td>\n",
       "      <td>Relógio ListradoBourbon Shopping SP</td>\n",
       "    </tr>\n",
       "    <tr>\n",
       "      <th>62091</th>\n",
       "      <td>42929</td>\n",
       "      <td>2019-08-10</td>\n",
       "      <td>Bourbon Shopping SP</td>\n",
       "      <td>Camisa Gola V Liso</td>\n",
       "      <td>1</td>\n",
       "      <td>118</td>\n",
       "      <td>118</td>\n",
       "      <td>Camisa Gola V LisoBourbon Shopping SP</td>\n",
       "    </tr>\n",
       "  </tbody>\n",
       "</table>\n",
       "</div>"
      ],
      "text/plain": [
       "       Código Venda  ...                                   nova\n",
       "89406         61896  ...        Short XadrezBourbon Shopping SP\n",
       "48745         33632  ...    Relógio ListradoBourbon Shopping SP\n",
       "48743         33630  ...       Calça EstampaBourbon Shopping SP\n",
       "62090         42929  ...    Relógio ListradoBourbon Shopping SP\n",
       "62091         42929  ...  Camisa Gola V LisoBourbon Shopping SP\n",
       "\n",
       "[5 rows x 8 columns]"
      ]
     },
     "execution_count": 38,
     "metadata": {
      "tags": []
     },
     "output_type": "execute_result"
    }
   ],
   "source": [
    "df.sort_values(\"ID Loja\", ascending= True).head()"
   ]
  },
  {
   "cell_type": "code",
   "execution_count": null,
   "metadata": {
    "colab": {
     "base_uri": "https://localhost:8080/",
     "height": 204
    },
    "executionInfo": {
     "elapsed": 598,
     "status": "ok",
     "timestamp": 1619891920438,
     "user": {
      "displayName": "Pedro Henrique Menezes",
      "photoUrl": "",
      "userId": "12021089369134471983"
     },
     "user_tz": 180
    },
    "id": "eWyqHuatFArZ",
    "outputId": "fc5c5fa5-8b91-47c3-a8fb-2e85f7a6814e"
   },
   "outputs": [
    {
     "data": {
      "text/html": [
       "<div>\n",
       "<style scoped>\n",
       "    .dataframe tbody tr th:only-of-type {\n",
       "        vertical-align: middle;\n",
       "    }\n",
       "\n",
       "    .dataframe tbody tr th {\n",
       "        vertical-align: top;\n",
       "    }\n",
       "\n",
       "    .dataframe thead th {\n",
       "        text-align: right;\n",
       "    }\n",
       "</style>\n",
       "<table border=\"1\" class=\"dataframe\">\n",
       "  <thead>\n",
       "    <tr style=\"text-align: right;\">\n",
       "      <th></th>\n",
       "      <th>Código Venda</th>\n",
       "      <th>Data</th>\n",
       "      <th>ID Loja</th>\n",
       "      <th>Produto</th>\n",
       "      <th>Quantidade</th>\n",
       "      <th>Valor Unitário</th>\n",
       "      <th>Valor Final</th>\n",
       "      <th>nova</th>\n",
       "    </tr>\n",
       "  </thead>\n",
       "  <tbody>\n",
       "    <tr>\n",
       "      <th>5029</th>\n",
       "      <td>3431</td>\n",
       "      <td>2019-01-19</td>\n",
       "      <td>Rio Mar Shopping Fortaleza</td>\n",
       "      <td>Terno Linho</td>\n",
       "      <td>5</td>\n",
       "      <td>750</td>\n",
       "      <td>3750</td>\n",
       "      <td>Terno LinhoRio Mar Shopping Fortaleza</td>\n",
       "    </tr>\n",
       "    <tr>\n",
       "      <th>5543</th>\n",
       "      <td>3769</td>\n",
       "      <td>2019-01-21</td>\n",
       "      <td>Iguatemi Campinas</td>\n",
       "      <td>Terno Linho</td>\n",
       "      <td>5</td>\n",
       "      <td>750</td>\n",
       "      <td>3750</td>\n",
       "      <td>Terno LinhoIguatemi Campinas</td>\n",
       "    </tr>\n",
       "    <tr>\n",
       "      <th>6335</th>\n",
       "      <td>4323</td>\n",
       "      <td>2019-01-24</td>\n",
       "      <td>Salvador Shopping</td>\n",
       "      <td>Terno Linho</td>\n",
       "      <td>5</td>\n",
       "      <td>750</td>\n",
       "      <td>3750</td>\n",
       "      <td>Terno LinhoSalvador Shopping</td>\n",
       "    </tr>\n",
       "    <tr>\n",
       "      <th>6431</th>\n",
       "      <td>4386</td>\n",
       "      <td>2019-01-24</td>\n",
       "      <td>Shopping SP Market</td>\n",
       "      <td>Terno Linho</td>\n",
       "      <td>5</td>\n",
       "      <td>750</td>\n",
       "      <td>3750</td>\n",
       "      <td>Terno LinhoShopping SP Market</td>\n",
       "    </tr>\n",
       "    <tr>\n",
       "      <th>6828</th>\n",
       "      <td>4647</td>\n",
       "      <td>2019-01-26</td>\n",
       "      <td>Norte Shopping</td>\n",
       "      <td>Terno Linho</td>\n",
       "      <td>5</td>\n",
       "      <td>750</td>\n",
       "      <td>3750</td>\n",
       "      <td>Terno LinhoNorte Shopping</td>\n",
       "    </tr>\n",
       "  </tbody>\n",
       "</table>\n",
       "</div>"
      ],
      "text/plain": [
       "      Código Venda  ...                                   nova\n",
       "5029          3431  ...  Terno LinhoRio Mar Shopping Fortaleza\n",
       "5543          3769  ...           Terno LinhoIguatemi Campinas\n",
       "6335          4323  ...           Terno LinhoSalvador Shopping\n",
       "6431          4386  ...          Terno LinhoShopping SP Market\n",
       "6828          4647  ...              Terno LinhoNorte Shopping\n",
       "\n",
       "[5 rows x 8 columns]"
      ]
     },
     "execution_count": 39,
     "metadata": {
      "tags": []
     },
     "output_type": "execute_result"
    }
   ],
   "source": [
    "df.sort_values([\"Valor Unitário\", \"Quantidade\"], ascending=False).head()"
   ]
  },
  {
   "cell_type": "code",
   "execution_count": null,
   "metadata": {
    "id": "uGRIGEHCGaeS"
   },
   "outputs": [],
   "source": [
    "#Usando items e filter"
   ]
  },
  {
   "cell_type": "code",
   "execution_count": null,
   "metadata": {
    "colab": {
     "base_uri": "https://localhost:8080/",
     "height": 419
    },
    "executionInfo": {
     "elapsed": 596,
     "status": "ok",
     "timestamp": 1619894730782,
     "user": {
      "displayName": "Pedro Henrique Menezes",
      "photoUrl": "",
      "userId": "12021089369134471983"
     },
     "user_tz": 180
    },
    "id": "Hriey6VmPmg_",
    "outputId": "170f996d-9d94-457f-dc47-ea49a0e8e5a8"
   },
   "outputs": [
    {
     "data": {
      "text/html": [
       "<div>\n",
       "<style scoped>\n",
       "    .dataframe tbody tr th:only-of-type {\n",
       "        vertical-align: middle;\n",
       "    }\n",
       "\n",
       "    .dataframe tbody tr th {\n",
       "        vertical-align: top;\n",
       "    }\n",
       "\n",
       "    .dataframe thead th {\n",
       "        text-align: right;\n",
       "    }\n",
       "</style>\n",
       "<table border=\"1\" class=\"dataframe\">\n",
       "  <thead>\n",
       "    <tr style=\"text-align: right;\">\n",
       "      <th></th>\n",
       "      <th>Código Venda</th>\n",
       "      <th>Data</th>\n",
       "    </tr>\n",
       "  </thead>\n",
       "  <tbody>\n",
       "    <tr>\n",
       "      <th>0</th>\n",
       "      <td>1</td>\n",
       "      <td>2019-01-01</td>\n",
       "    </tr>\n",
       "    <tr>\n",
       "      <th>1</th>\n",
       "      <td>1</td>\n",
       "      <td>2019-01-01</td>\n",
       "    </tr>\n",
       "    <tr>\n",
       "      <th>2</th>\n",
       "      <td>1</td>\n",
       "      <td>2019-01-01</td>\n",
       "    </tr>\n",
       "    <tr>\n",
       "      <th>3</th>\n",
       "      <td>2</td>\n",
       "      <td>2019-01-02</td>\n",
       "    </tr>\n",
       "    <tr>\n",
       "      <th>4</th>\n",
       "      <td>2</td>\n",
       "      <td>2019-01-02</td>\n",
       "    </tr>\n",
       "    <tr>\n",
       "      <th>...</th>\n",
       "      <td>...</td>\n",
       "      <td>...</td>\n",
       "    </tr>\n",
       "    <tr>\n",
       "      <th>100994</th>\n",
       "      <td>69996</td>\n",
       "      <td>2019-12-26</td>\n",
       "    </tr>\n",
       "    <tr>\n",
       "      <th>100995</th>\n",
       "      <td>69996</td>\n",
       "      <td>2019-12-26</td>\n",
       "    </tr>\n",
       "    <tr>\n",
       "      <th>100996</th>\n",
       "      <td>69996</td>\n",
       "      <td>2019-12-26</td>\n",
       "    </tr>\n",
       "    <tr>\n",
       "      <th>100997</th>\n",
       "      <td>69997</td>\n",
       "      <td>2019-12-26</td>\n",
       "    </tr>\n",
       "    <tr>\n",
       "      <th>100998</th>\n",
       "      <td>69997</td>\n",
       "      <td>2019-12-26</td>\n",
       "    </tr>\n",
       "  </tbody>\n",
       "</table>\n",
       "<p>100999 rows × 2 columns</p>\n",
       "</div>"
      ],
      "text/plain": [
       "        Código Venda       Data\n",
       "0                  1 2019-01-01\n",
       "1                  1 2019-01-01\n",
       "2                  1 2019-01-01\n",
       "3                  2 2019-01-02\n",
       "4                  2 2019-01-02\n",
       "...              ...        ...\n",
       "100994         69996 2019-12-26\n",
       "100995         69996 2019-12-26\n",
       "100996         69996 2019-12-26\n",
       "100997         69997 2019-12-26\n",
       "100998         69997 2019-12-26\n",
       "\n",
       "[100999 rows x 2 columns]"
      ]
     },
     "execution_count": 40,
     "metadata": {
      "tags": []
     },
     "output_type": "execute_result"
    }
   ],
   "source": [
    "df.filter( items = [\"Código Venda\", \"Data\"])"
   ]
  },
  {
   "cell_type": "code",
   "execution_count": null,
   "metadata": {
    "id": "06GyqiimQqLy"
   },
   "outputs": [],
   "source": [
    "#usando like (colunas) #filter"
   ]
  },
  {
   "cell_type": "code",
   "execution_count": null,
   "metadata": {
    "colab": {
     "base_uri": "https://localhost:8080/",
     "height": 204
    },
    "executionInfo": {
     "elapsed": 577,
     "status": "ok",
     "timestamp": 1619894980986,
     "user": {
      "displayName": "Pedro Henrique Menezes",
      "photoUrl": "",
      "userId": "12021089369134471983"
     },
     "user_tz": 180
    },
    "id": "ky1iRwnFQtDt",
    "outputId": "c52a72a4-b9a6-495c-b704-71da5e3d4ade"
   },
   "outputs": [
    {
     "data": {
      "text/html": [
       "<div>\n",
       "<style scoped>\n",
       "    .dataframe tbody tr th:only-of-type {\n",
       "        vertical-align: middle;\n",
       "    }\n",
       "\n",
       "    .dataframe tbody tr th {\n",
       "        vertical-align: top;\n",
       "    }\n",
       "\n",
       "    .dataframe thead th {\n",
       "        text-align: right;\n",
       "    }\n",
       "</style>\n",
       "<table border=\"1\" class=\"dataframe\">\n",
       "  <thead>\n",
       "    <tr style=\"text-align: right;\">\n",
       "      <th></th>\n",
       "      <th>Código Venda</th>\n",
       "    </tr>\n",
       "  </thead>\n",
       "  <tbody>\n",
       "    <tr>\n",
       "      <th>0</th>\n",
       "      <td>1</td>\n",
       "    </tr>\n",
       "    <tr>\n",
       "      <th>1</th>\n",
       "      <td>1</td>\n",
       "    </tr>\n",
       "    <tr>\n",
       "      <th>2</th>\n",
       "      <td>1</td>\n",
       "    </tr>\n",
       "    <tr>\n",
       "      <th>3</th>\n",
       "      <td>2</td>\n",
       "    </tr>\n",
       "    <tr>\n",
       "      <th>4</th>\n",
       "      <td>2</td>\n",
       "    </tr>\n",
       "  </tbody>\n",
       "</table>\n",
       "</div>"
      ],
      "text/plain": [
       "   Código Venda\n",
       "0             1\n",
       "1             1\n",
       "2             1\n",
       "3             2\n",
       "4             2"
      ]
     },
     "execution_count": 42,
     "metadata": {
      "tags": []
     },
     "output_type": "execute_result"
    }
   ],
   "source": [
    "df.filter( like = \"Ven\").head()"
   ]
  },
  {
   "cell_type": "code",
   "execution_count": null,
   "metadata": {
    "id": "5j0E98WzRNxh"
   },
   "outputs": [],
   "source": [
    "#Como Pandas realiza operações lógicas"
   ]
  },
  {
   "cell_type": "code",
   "execution_count": null,
   "metadata": {
    "colab": {
     "base_uri": "https://localhost:8080/",
     "height": 419
    },
    "executionInfo": {
     "elapsed": 503,
     "status": "ok",
     "timestamp": 1619993106662,
     "user": {
      "displayName": "Pedro Henrique Menezes",
      "photoUrl": "",
      "userId": "12021089369134471983"
     },
     "user_tz": 180
    },
    "id": "IGtZUOXTEvG9",
    "outputId": "e4f00b2e-b6be-40fa-b20c-836982a71ef1"
   },
   "outputs": [
    {
     "data": {
      "text/html": [
       "<div>\n",
       "<style scoped>\n",
       "    .dataframe tbody tr th:only-of-type {\n",
       "        vertical-align: middle;\n",
       "    }\n",
       "\n",
       "    .dataframe tbody tr th {\n",
       "        vertical-align: top;\n",
       "    }\n",
       "\n",
       "    .dataframe thead th {\n",
       "        text-align: right;\n",
       "    }\n",
       "</style>\n",
       "<table border=\"1\" class=\"dataframe\">\n",
       "  <thead>\n",
       "    <tr style=\"text-align: right;\">\n",
       "      <th></th>\n",
       "      <th>Código Venda</th>\n",
       "      <th>Data</th>\n",
       "      <th>ID Loja</th>\n",
       "      <th>Produto</th>\n",
       "      <th>Quantidade</th>\n",
       "      <th>Valor Unitário</th>\n",
       "      <th>Valor Final</th>\n",
       "    </tr>\n",
       "  </thead>\n",
       "  <tbody>\n",
       "    <tr>\n",
       "      <th>1</th>\n",
       "      <td>1</td>\n",
       "      <td>2019-01-01</td>\n",
       "      <td>Iguatemi Esplanada</td>\n",
       "      <td>Camiseta</td>\n",
       "      <td>2</td>\n",
       "      <td>180</td>\n",
       "      <td>360</td>\n",
       "    </tr>\n",
       "    <tr>\n",
       "      <th>15</th>\n",
       "      <td>11</td>\n",
       "      <td>2019-01-02</td>\n",
       "      <td>Shopping Recife</td>\n",
       "      <td>Camiseta</td>\n",
       "      <td>1</td>\n",
       "      <td>180</td>\n",
       "      <td>180</td>\n",
       "    </tr>\n",
       "    <tr>\n",
       "      <th>119</th>\n",
       "      <td>93</td>\n",
       "      <td>2019-01-02</td>\n",
       "      <td>Novo Shopping Ribeirão Preto</td>\n",
       "      <td>Camiseta</td>\n",
       "      <td>1</td>\n",
       "      <td>180</td>\n",
       "      <td>180</td>\n",
       "    </tr>\n",
       "    <tr>\n",
       "      <th>206</th>\n",
       "      <td>148</td>\n",
       "      <td>2019-01-02</td>\n",
       "      <td>Shopping Center Interlagos</td>\n",
       "      <td>Camiseta</td>\n",
       "      <td>2</td>\n",
       "      <td>180</td>\n",
       "      <td>360</td>\n",
       "    </tr>\n",
       "    <tr>\n",
       "      <th>276</th>\n",
       "      <td>199</td>\n",
       "      <td>2019-01-02</td>\n",
       "      <td>Passei das Águas Shopping</td>\n",
       "      <td>Camiseta</td>\n",
       "      <td>2</td>\n",
       "      <td>180</td>\n",
       "      <td>360</td>\n",
       "    </tr>\n",
       "    <tr>\n",
       "      <th>...</th>\n",
       "      <td>...</td>\n",
       "      <td>...</td>\n",
       "      <td>...</td>\n",
       "      <td>...</td>\n",
       "      <td>...</td>\n",
       "      <td>...</td>\n",
       "      <td>...</td>\n",
       "    </tr>\n",
       "    <tr>\n",
       "      <th>100234</th>\n",
       "      <td>69449</td>\n",
       "      <td>2019-12-23</td>\n",
       "      <td>Shopping Eldorado</td>\n",
       "      <td>Camiseta</td>\n",
       "      <td>3</td>\n",
       "      <td>180</td>\n",
       "      <td>540</td>\n",
       "    </tr>\n",
       "    <tr>\n",
       "      <th>100519</th>\n",
       "      <td>69634</td>\n",
       "      <td>2019-12-24</td>\n",
       "      <td>Rio Mar Recife</td>\n",
       "      <td>Camiseta</td>\n",
       "      <td>3</td>\n",
       "      <td>180</td>\n",
       "      <td>540</td>\n",
       "    </tr>\n",
       "    <tr>\n",
       "      <th>100661</th>\n",
       "      <td>69745</td>\n",
       "      <td>2019-12-24</td>\n",
       "      <td>Passei das Águas Shopping</td>\n",
       "      <td>Camiseta</td>\n",
       "      <td>3</td>\n",
       "      <td>180</td>\n",
       "      <td>540</td>\n",
       "    </tr>\n",
       "    <tr>\n",
       "      <th>100822</th>\n",
       "      <td>69883</td>\n",
       "      <td>2019-12-25</td>\n",
       "      <td>Rio Mar Recife</td>\n",
       "      <td>Camiseta</td>\n",
       "      <td>1</td>\n",
       "      <td>180</td>\n",
       "      <td>180</td>\n",
       "    </tr>\n",
       "    <tr>\n",
       "      <th>100901</th>\n",
       "      <td>69933</td>\n",
       "      <td>2019-12-25</td>\n",
       "      <td>Shopping SP Market</td>\n",
       "      <td>Camiseta</td>\n",
       "      <td>3</td>\n",
       "      <td>180</td>\n",
       "      <td>540</td>\n",
       "    </tr>\n",
       "  </tbody>\n",
       "</table>\n",
       "<p>852 rows × 7 columns</p>\n",
       "</div>"
      ],
      "text/plain": [
       "        Código Venda       Data  ... Valor Unitário Valor Final\n",
       "1                  1 2019-01-01  ...            180         360\n",
       "15                11 2019-01-02  ...            180         180\n",
       "119               93 2019-01-02  ...            180         180\n",
       "206              148 2019-01-02  ...            180         360\n",
       "276              199 2019-01-02  ...            180         360\n",
       "...              ...        ...  ...            ...         ...\n",
       "100234         69449 2019-12-23  ...            180         540\n",
       "100519         69634 2019-12-24  ...            180         540\n",
       "100661         69745 2019-12-24  ...            180         540\n",
       "100822         69883 2019-12-25  ...            180         180\n",
       "100901         69933 2019-12-25  ...            180         540\n",
       "\n",
       "[852 rows x 7 columns]"
      ]
     },
     "execution_count": 23,
     "metadata": {
      "tags": []
     },
     "output_type": "execute_result"
    }
   ],
   "source": [
    "df[df.Produto == \"Camiseta\"]"
   ]
  },
  {
   "cell_type": "code",
   "execution_count": null,
   "metadata": {
    "id": "w1HoiLluHgKf"
   },
   "outputs": [],
   "source": [
    "df.columns = df.columns.str.replace(\" \", \"_\")"
   ]
  },
  {
   "cell_type": "code",
   "execution_count": null,
   "metadata": {
    "colab": {
     "base_uri": "https://localhost:8080/",
     "height": 204
    },
    "executionInfo": {
     "elapsed": 590,
     "status": "ok",
     "timestamp": 1619993727561,
     "user": {
      "displayName": "Pedro Henrique Menezes",
      "photoUrl": "",
      "userId": "12021089369134471983"
     },
     "user_tz": 180
    },
    "id": "BnbFQjhqF-c_",
    "outputId": "f408906a-0c27-4ecb-b545-d678252a470a"
   },
   "outputs": [
    {
     "data": {
      "text/html": [
       "<div>\n",
       "<style scoped>\n",
       "    .dataframe tbody tr th:only-of-type {\n",
       "        vertical-align: middle;\n",
       "    }\n",
       "\n",
       "    .dataframe tbody tr th {\n",
       "        vertical-align: top;\n",
       "    }\n",
       "\n",
       "    .dataframe thead th {\n",
       "        text-align: right;\n",
       "    }\n",
       "</style>\n",
       "<table border=\"1\" class=\"dataframe\">\n",
       "  <thead>\n",
       "    <tr style=\"text-align: right;\">\n",
       "      <th></th>\n",
       "      <th>Código_Venda</th>\n",
       "      <th>Data</th>\n",
       "      <th>ID_Loja</th>\n",
       "      <th>Produto</th>\n",
       "      <th>Quantidade</th>\n",
       "      <th>Valor_Unitário</th>\n",
       "      <th>Valor_Final</th>\n",
       "    </tr>\n",
       "  </thead>\n",
       "  <tbody>\n",
       "    <tr>\n",
       "      <th>1</th>\n",
       "      <td>1</td>\n",
       "      <td>2019-01-01</td>\n",
       "      <td>Iguatemi Esplanada</td>\n",
       "      <td>Camiseta</td>\n",
       "      <td>2</td>\n",
       "      <td>180</td>\n",
       "      <td>360</td>\n",
       "    </tr>\n",
       "    <tr>\n",
       "      <th>4405</th>\n",
       "      <td>3018</td>\n",
       "      <td>2019-01-17</td>\n",
       "      <td>Iguatemi Esplanada</td>\n",
       "      <td>Camiseta</td>\n",
       "      <td>1</td>\n",
       "      <td>180</td>\n",
       "      <td>180</td>\n",
       "    </tr>\n",
       "    <tr>\n",
       "      <th>4489</th>\n",
       "      <td>3067</td>\n",
       "      <td>2019-01-17</td>\n",
       "      <td>Iguatemi Esplanada</td>\n",
       "      <td>Camiseta</td>\n",
       "      <td>2</td>\n",
       "      <td>180</td>\n",
       "      <td>360</td>\n",
       "    </tr>\n",
       "    <tr>\n",
       "      <th>7696</th>\n",
       "      <td>5251</td>\n",
       "      <td>2019-01-29</td>\n",
       "      <td>Iguatemi Esplanada</td>\n",
       "      <td>Camiseta</td>\n",
       "      <td>1</td>\n",
       "      <td>180</td>\n",
       "      <td>180</td>\n",
       "    </tr>\n",
       "    <tr>\n",
       "      <th>13073</th>\n",
       "      <td>8985</td>\n",
       "      <td>2019-02-17</td>\n",
       "      <td>Iguatemi Esplanada</td>\n",
       "      <td>Camiseta</td>\n",
       "      <td>1</td>\n",
       "      <td>180</td>\n",
       "      <td>180</td>\n",
       "    </tr>\n",
       "  </tbody>\n",
       "</table>\n",
       "</div>"
      ],
      "text/plain": [
       "       Código_Venda       Data  ... Valor_Unitário Valor_Final\n",
       "1                 1 2019-01-01  ...            180         360\n",
       "4405           3018 2019-01-17  ...            180         180\n",
       "4489           3067 2019-01-17  ...            180         360\n",
       "7696           5251 2019-01-29  ...            180         180\n",
       "13073          8985 2019-02-17  ...            180         180\n",
       "\n",
       "[5 rows x 7 columns]"
      ]
     },
     "execution_count": 27,
     "metadata": {
      "tags": []
     },
     "output_type": "execute_result"
    }
   ],
   "source": [
    "df[(df.Produto == \"Camiseta\") & (df.ID_Loja == \"Iguatemi Esplanada\")].head()"
   ]
  },
  {
   "cell_type": "code",
   "execution_count": null,
   "metadata": {
    "id": "z0dJEVCYKV36"
   },
   "outputs": [],
   "source": [
    "df[(df.Produto == \"Camiseta\") & (df.ID_Loja == \"Iguatemi Esplanada\")][[\"Produto\" , \"ID_Loja\"]]"
   ]
  },
  {
   "cell_type": "code",
   "execution_count": null,
   "metadata": {
    "id": "fNSmVVINOKl2"
   },
   "outputs": [],
   "source": [
    "df[(df.Produto == \"Camiseta\") | (df.ID_Loja == \"Iguatemi Esplanada\")][[\"Produto\" , \"ID_Loja\"]]"
   ]
  },
  {
   "cell_type": "code",
   "execution_count": null,
   "metadata": {
    "id": "UJAG7QnCp3mQ"
   },
   "outputs": [],
   "source": [
    "# Refatorando a operação usando o isin"
   ]
  },
  {
   "cell_type": "code",
   "execution_count": null,
   "metadata": {
    "colab": {
     "base_uri": "https://localhost:8080/",
     "height": 129
    },
    "executionInfo": {
     "elapsed": 594,
     "status": "error",
     "timestamp": 1620002458228,
     "user": {
      "displayName": "Pedro Henrique Menezes",
      "photoUrl": "",
      "userId": "12021089369134471983"
     },
     "user_tz": 180
    },
    "id": "ZwwE0H2kp4Vf",
    "outputId": "5b1ab7b0-99f3-47d7-8623-6c521696d723"
   },
   "outputs": [
    {
     "ename": "SyntaxError",
     "evalue": "ignored",
     "output_type": "error",
     "traceback": [
      "\u001b[0;36m  File \u001b[0;32m\"<ipython-input-2-5b38f454713d>\"\u001b[0;36m, line \u001b[0;32m1\u001b[0m\n\u001b[0;31m    df[(df.Produto == \"Camiseta\") & (df.ID_Loja isin([\"Iguatemi Esplanada\", \"ID_Loja\"]))].shape\u001b[0m\n\u001b[0m                                                   ^\u001b[0m\n\u001b[0;31mSyntaxError\u001b[0m\u001b[0;31m:\u001b[0m invalid syntax\n"
     ]
    }
   ],
   "source": [
    "df[(df.Produto == \"Camiseta\") & (df.ID_Loja isin([\"Iguatemi Esplanada\", \"ID_Loja\"])]\n"
   ]
  },
  {
   "cell_type": "code",
   "execution_count": null,
   "metadata": {
    "id": "3qeuqagXptpP"
   },
   "outputs": [],
   "source": [
    "# Usando groupby e funções descritivas"
   ]
  },
  {
   "cell_type": "code",
   "execution_count": null,
   "metadata": {
    "colab": {
     "base_uri": "https://localhost:8080/"
    },
    "executionInfo": {
     "elapsed": 661,
     "status": "ok",
     "timestamp": 1620153310922,
     "user": {
      "displayName": "Pedro Henrique Menezes",
      "photoUrl": "",
      "userId": "12021089369134471983"
     },
     "user_tz": 180
    },
    "id": "lXiYqCHvpyhB",
    "outputId": "d5fda467-e643-4543-f0ef-a2787e75d999"
   },
   "outputs": [
    {
     "data": {
      "text/plain": [
       "750"
      ]
     },
     "execution_count": 4,
     "metadata": {
      "tags": []
     },
     "output_type": "execute_result"
    }
   ],
   "source": [
    "#maior valor\n",
    "df.Valor_Unitário.max()"
   ]
  },
  {
   "cell_type": "code",
   "execution_count": null,
   "metadata": {
    "colab": {
     "base_uri": "https://localhost:8080/"
    },
    "executionInfo": {
     "elapsed": 631,
     "status": "ok",
     "timestamp": 1620153848595,
     "user": {
      "displayName": "Pedro Henrique Menezes",
      "photoUrl": "",
      "userId": "12021089369134471983"
     },
     "user_tz": 180
    },
    "id": "If5bAuSAsZ74",
    "outputId": "b08a170f-c9fb-43cd-d3e2-b451bcb35753"
   },
   "outputs": [
    {
     "data": {
      "text/plain": [
       "191.861018425925"
      ]
     },
     "execution_count": 5,
     "metadata": {
      "tags": []
     },
     "output_type": "execute_result"
    }
   ],
   "source": [
    "#media\n",
    "df.Valor_Unitário.mean()"
   ]
  },
  {
   "cell_type": "code",
   "execution_count": null,
   "metadata": {
    "id": "hA-lRans0E87"
   },
   "outputs": [],
   "source": [
    "#usnado o groupby"
   ]
  },
  {
   "cell_type": "code",
   "execution_count": null,
   "metadata": {
    "colab": {
     "base_uri": "https://localhost:8080/",
     "height": 450
    },
    "executionInfo": {
     "elapsed": 876,
     "status": "ok",
     "timestamp": 1620155909567,
     "user": {
      "displayName": "Pedro Henrique Menezes",
      "photoUrl": "",
      "userId": "12021089369134471983"
     },
     "user_tz": 180
    },
    "id": "vC8-J3VGsfYR",
    "outputId": "9ac28cf4-8432-4108-e8e0-ada18c5c00ba"
   },
   "outputs": [
    {
     "data": {
      "text/html": [
       "<div>\n",
       "<style scoped>\n",
       "    .dataframe tbody tr th:only-of-type {\n",
       "        vertical-align: middle;\n",
       "    }\n",
       "\n",
       "    .dataframe tbody tr th {\n",
       "        vertical-align: top;\n",
       "    }\n",
       "\n",
       "    .dataframe thead th {\n",
       "        text-align: right;\n",
       "    }\n",
       "</style>\n",
       "<table border=\"1\" class=\"dataframe\">\n",
       "  <thead>\n",
       "    <tr style=\"text-align: right;\">\n",
       "      <th></th>\n",
       "      <th></th>\n",
       "      <th>Valor_Final</th>\n",
       "    </tr>\n",
       "    <tr>\n",
       "      <th>ID_Loja</th>\n",
       "      <th>Produto</th>\n",
       "      <th></th>\n",
       "    </tr>\n",
       "  </thead>\n",
       "  <tbody>\n",
       "    <tr>\n",
       "      <th rowspan=\"5\" valign=\"top\">Bourbon Shopping SP</th>\n",
       "      <th>Bermuda</th>\n",
       "      <td>750</td>\n",
       "    </tr>\n",
       "    <tr>\n",
       "      <th>Bermuda Estampa</th>\n",
       "      <td>676</td>\n",
       "    </tr>\n",
       "    <tr>\n",
       "      <th>Bermuda Linho</th>\n",
       "      <td>975</td>\n",
       "    </tr>\n",
       "    <tr>\n",
       "      <th>Bermuda Liso</th>\n",
       "      <td>785</td>\n",
       "    </tr>\n",
       "    <tr>\n",
       "      <th>Bermuda Listrado</th>\n",
       "      <td>815</td>\n",
       "    </tr>\n",
       "    <tr>\n",
       "      <th>...</th>\n",
       "      <th>...</th>\n",
       "      <td>...</td>\n",
       "    </tr>\n",
       "    <tr>\n",
       "      <th rowspan=\"5\" valign=\"top\">Shopping Vila Velha</th>\n",
       "      <th>Tênis Estampa</th>\n",
       "      <td>1280</td>\n",
       "    </tr>\n",
       "    <tr>\n",
       "      <th>Tênis Linho</th>\n",
       "      <td>1470</td>\n",
       "    </tr>\n",
       "    <tr>\n",
       "      <th>Tênis Liso</th>\n",
       "      <td>1330</td>\n",
       "    </tr>\n",
       "    <tr>\n",
       "      <th>Tênis Listrado</th>\n",
       "      <td>1310</td>\n",
       "    </tr>\n",
       "    <tr>\n",
       "      <th>Tênis Xadrez</th>\n",
       "      <td>1295</td>\n",
       "    </tr>\n",
       "  </tbody>\n",
       "</table>\n",
       "<p>3000 rows × 1 columns</p>\n",
       "</div>"
      ],
      "text/plain": [
       "                                      Valor_Final\n",
       "ID_Loja             Produto                      \n",
       "Bourbon Shopping SP Bermuda                   750\n",
       "                    Bermuda Estampa           676\n",
       "                    Bermuda Linho             975\n",
       "                    Bermuda Liso              785\n",
       "                    Bermuda Listrado          815\n",
       "...                                           ...\n",
       "Shopping Vila Velha Tênis Estampa            1280\n",
       "                    Tênis Linho              1470\n",
       "                    Tênis Liso               1330\n",
       "                    Tênis Listrado           1310\n",
       "                    Tênis Xadrez             1295\n",
       "\n",
       "[3000 rows x 1 columns]"
      ]
     },
     "execution_count": 9,
     "metadata": {
      "tags": []
     },
     "output_type": "execute_result"
    }
   ],
   "source": [
    "df[[\"ID_Loja\", \"Produto\", \"Valor_Final\"]].groupby([\"ID_Loja\", \"Produto\"]).max()"
   ]
  },
  {
   "cell_type": "code",
   "execution_count": null,
   "metadata": {
    "id": "JFhRSer4r6B4"
   },
   "outputs": [],
   "source": [
    "#outro exemplo de uso do groupby\n",
    "#df[((df.age >= 30) & (df.age <= 50)) & (df.marital.isin([\"married\", \"divorced\"]))][colunas].groupby([\"marital\"]).mean()"
   ]
  },
  {
   "cell_type": "code",
   "execution_count": null,
   "metadata": {
    "id": "VCV3adU4ILiq"
   },
   "outputs": [],
   "source": [
    "import numpy as np\n",
    "s = pd.Series((1,2,3,4,5), index=[\"a\", \"b\", \"c\", \"d\", \"e\"])\n",
    "#s = pd.Series(np.random.randn(5), index=[\"a\", \"b\", \"c\", \"d\", \"e\"])"
   ]
  },
  {
   "cell_type": "code",
   "execution_count": null,
   "metadata": {
    "colab": {
     "base_uri": "https://localhost:8080/"
    },
    "executionInfo": {
     "elapsed": 842,
     "status": "ok",
     "timestamp": 1620161221715,
     "user": {
      "displayName": "Pedro Henrique Menezes",
      "photoUrl": "",
      "userId": "12021089369134471983"
     },
     "user_tz": 180
    },
    "id": "Hu7xT6KbIXRz",
    "outputId": "1c601742-4419-48d7-8415-98e52a87f135"
   },
   "outputs": [
    {
     "data": {
      "text/plain": [
       "a    1\n",
       "b    2\n",
       "c    3\n",
       "d    4\n",
       "e    5\n",
       "dtype: int64"
      ]
     },
     "execution_count": 16,
     "metadata": {
      "tags": []
     },
     "output_type": "execute_result"
    }
   ],
   "source": [
    "s"
   ]
  }
 ],
 "metadata": {
  "colab": {
   "authorship_tag": "ABX9TyNf1JkZevKbVyi0ISeHTAYC",
   "mount_file_id": "1aUo3TThV_67pDFt8ecP7zSZ6ZDz2O7Ia",
   "name": "Pandas_Geral.ipynb",
   "provenance": [],
   "toc_visible": true
  },
  "kernelspec": {
   "display_name": "Python 3",
   "language": "python",
   "name": "python3"
  },
  "language_info": {
   "codemirror_mode": {
    "name": "ipython",
    "version": 3
   },
   "file_extension": ".py",
   "mimetype": "text/x-python",
   "name": "python",
   "nbconvert_exporter": "python",
   "pygments_lexer": "ipython3",
   "version": "3.8.8"
  }
 },
 "nbformat": 4,
 "nbformat_minor": 1
}
